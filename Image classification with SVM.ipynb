{
 "cells": [
  {
   "cell_type": "markdown",
   "id": "bb732e45",
   "metadata": {},
   "source": [
    "## Import"
   ]
  },
  {
   "cell_type": "code",
   "execution_count": 2,
   "id": "8e9d292e",
   "metadata": {},
   "outputs": [],
   "source": [
    "import cv2\n",
    "import os\n",
    "import pandas as pd \n",
    "import numpy as np\n",
    "import random\n",
    "from skimage.feature import hog\n",
    "from sklearn import svm\n",
    "from sklearn.model_selection import train_test_split"
   ]
  },
  {
   "cell_type": "markdown",
   "id": "45610247",
   "metadata": {},
   "source": [
    "## Feature Extraction\n",
    "##### Read training images\n",
    "##### define the category of each image\n",
    "##### read each image\n",
    "##### resize each image to (128, 64)\n",
    "##### extract the features of the image using hog\n",
    "##### construct lists for categories, images names, features"
   ]
  },
  {
   "cell_type": "code",
   "execution_count": 3,
   "id": "0a05c4c8",
   "metadata": {},
   "outputs": [
    {
     "name": "stderr",
     "output_type": "stream",
     "text": [
      "C:\\Users\\HP\\AppData\\Local\\Temp\\ipykernel_7500\\277387958.py:25: FutureWarning: `multichannel` is a deprecated argument name for `hog`. It will be removed in version 1.0. Please use `channel_axis` instead.\n",
      "  fd, hog_img = hog(resized_img, orientations = 9, pixels_per_cell = (8, 8),\n"
     ]
    }
   ],
   "source": [
    "training_path = './dogs-vs-cats/train'\n",
    "\n",
    "i = 0\n",
    "\n",
    "categories = []\n",
    "imgs_names = []\n",
    "features = []\n",
    "\n",
    "for filename in os.listdir(training_path):\n",
    "    # append the image name to the list of names\n",
    "    imgs_names.append(filename)\n",
    "\n",
    "    # define the cateory (class (dog or cat)) of each image \n",
    "    if 'dog' in filename:\n",
    "        categories.append(1)\n",
    "    else:\n",
    "        categories.append(0)\n",
    "        \n",
    "    \n",
    "    # read the image \n",
    "    img = cv2.imread(os.path.join(training_path, filename))\n",
    "    # resize the image\n",
    "    resized_img = cv2.resize(img, (128, 64))\n",
    "    # extract the features using HOG\n",
    "    fd, hog_img = hog(resized_img, orientations = 9, pixels_per_cell = (8, 8), \n",
    "                      cells_per_block = (2, 2), visualize = True, multichannel = True)\n",
    "    # append the feature array to the list of features \n",
    "    features.append(fd)\n",
    "    \n",
    "    # take only the first 3000 data images\n",
    "    i += 1\n",
    "    if i == 25000:\n",
    "        break"
   ]
  },
  {
   "cell_type": "code",
   "execution_count": 4,
   "id": "82b30515",
   "metadata": {},
   "outputs": [
    {
     "data": {
      "text/plain": [
       "25000"
      ]
     },
     "execution_count": 4,
     "metadata": {},
     "output_type": "execute_result"
    }
   ],
   "source": [
    "len(categories)"
   ]
  },
  {
   "cell_type": "code",
   "execution_count": 5,
   "id": "71921371",
   "metadata": {},
   "outputs": [
    {
     "data": {
      "text/plain": [
       "25000"
      ]
     },
     "execution_count": 5,
     "metadata": {},
     "output_type": "execute_result"
    }
   ],
   "source": [
    "len(features)"
   ]
  },
  {
   "cell_type": "markdown",
   "id": "505b8ddf",
   "metadata": {},
   "source": [
    "### converting the variable to an array"
   ]
  },
  {
   "cell_type": "code",
   "execution_count": 6,
   "id": "818e6ced",
   "metadata": {},
   "outputs": [],
   "source": [
    "categories = np.array(categories)\n",
    "features = np.array(features)\n",
    "X = features\n",
    "Y = categories\n",
    "\n",
    "\n"
   ]
  },
  {
   "cell_type": "markdown",
   "id": "da4f8e5e",
   "metadata": {},
   "source": [
    "### Train-test split"
   ]
  },
  {
   "cell_type": "code",
   "execution_count": 9,
   "id": "cf13342c",
   "metadata": {},
   "outputs": [],
   "source": [
    "X_train, X_test, Y_train, Y_test = train_test_split(X, Y,test_size = 0.2, random_state=42,shuffle=True)"
   ]
  },
  {
   "cell_type": "markdown",
   "id": "44c3bb43",
   "metadata": {},
   "source": [
    "### Train the SVM on the extracted features"
   ]
  },
  {
   "cell_type": "code",
   "execution_count": 10,
   "id": "335e2ebf",
   "metadata": {},
   "outputs": [],
   "source": [
    "# we create an instance of SVM and fit out data.\n",
    "C = 0.1  # SVM regularization parameter\n",
    "svc = svm.SVC(kernel='linear', C=C).fit(X_train, Y_train)"
   ]
  },
  {
   "cell_type": "markdown",
   "id": "3e404d3f",
   "metadata": {},
   "source": [
    "### Predict using the trainig data"
   ]
  },
  {
   "cell_type": "code",
   "execution_count": 15,
   "id": "0841c635",
   "metadata": {},
   "outputs": [],
   "source": [
    "predictions = svc.predict(X_test)"
   ]
  },
  {
   "cell_type": "markdown",
   "id": "1fa28ada",
   "metadata": {},
   "source": [
    "### Calculate the training set accuracy"
   ]
  },
  {
   "cell_type": "code",
   "execution_count": 14,
   "id": "dd3c9a70",
   "metadata": {},
   "outputs": [
    {
     "data": {
      "text/plain": [
       "0.731"
      ]
     },
     "execution_count": 14,
     "metadata": {},
     "output_type": "execute_result"
    }
   ],
   "source": [
    "accuracy = np.mean(predictions == Y_test)\n",
    "accuracy"
   ]
  }
 ],
 "metadata": {
  "kernelspec": {
   "display_name": "Python 3 (ipykernel)",
   "language": "python",
   "name": "python3"
  },
  "language_info": {
   "codemirror_mode": {
    "name": "ipython",
    "version": 3
   },
   "file_extension": ".py",
   "mimetype": "text/x-python",
   "name": "python",
   "nbconvert_exporter": "python",
   "pygments_lexer": "ipython3",
   "version": "3.9.13"
  }
 },
 "nbformat": 4,
 "nbformat_minor": 5
}
